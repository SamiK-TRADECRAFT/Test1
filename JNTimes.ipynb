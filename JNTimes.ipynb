{
 "cells": [
  {
   "cell_type": "code",
   "execution_count": 1,
   "metadata": {},
   "outputs": [],
   "source": [
    "import requests\n",
    "from bs4 import BeautifulSoup as bs\n",
    "import pandas"
   ]
  },
  {
   "cell_type": "code",
   "execution_count": 30,
   "metadata": {},
   "outputs": [],
   "source": [
    "url = \"https://jordantimes.com/news/region?page=1\""
   ]
  },
  {
   "cell_type": "code",
   "execution_count": 31,
   "metadata": {},
   "outputs": [],
   "source": [
    "req = requests.get(url).text\n",
    "soup = bs(req, \"html.parser\")"
   ]
  },
  {
   "cell_type": "code",
   "execution_count": 32,
   "metadata": {},
   "outputs": [],
   "source": [
    "items = soup.find(\"div\",{\"id\":\"block-system-main\"}).findAll(\"div\",{\"class\":\"row\"})"
   ]
  },
  {
   "cell_type": "code",
   "execution_count": 33,
   "metadata": {},
   "outputs": [
    {
     "name": "stdout",
     "output_type": "stream",
     "text": [
      "Iran fires missiles at  US troop bases in Iraq\n",
      "https://jordantimes.com/news/region/iran-fires-missiles-us-troop-bases-iraq\n",
      "Jan 08, 2020\n",
      "\n",
      "WASHINGTON — President Donald Trump on Wednesday said Iran appeared to be \"standing down\" after missile strikes against Iraqi bases that caused no US casualties, indicating there would be no immediate new military response.In a televised address to the nation from the White House, Trump emphasised that there were \"no Americans harmed\" in the salvo of missiles aimed at two bases.While he promised to immediately impose \"punishing\" new economic sanctions against Iran, Trump welcomed signs that Iran \"appears to be standing down\" in the tit-for-tat confrontation, signalling that the United States did not plan a new military riposte.Trump closed his remarks by addressing Iranians directly, saying that he was \"ready to embrace peace with all who seek it\".However, the US president, facing both an impeachment trial in Congress and a tough reelection in November, touted his decision to order the killing of top Iranian Gen. Qassem Soleimani last Friday — the operation that prompted Tehran’s missile strike.Soleimani, a national hero in Iran, was “the world’s top terrorist” and “should have been terminated long ago”, Trump said.Although Trump ended his remarks with the call for peace, he opened by stating bluntly that he would never allow Iran to procure a nuclear weapon.He then urged European allies and other world powers to follow America’s lead in abandoning a teetering international agreement on managing the country’s nuclear ambitions. Missiles blast bases  Iran’s missiles targeted the sprawling Ain Al Asad Airbase in western Iraq and a base in Erbil, both housing American and other foreign troops deployed in a US-led coalition fighting the remnants of the Daesh.Iran’s supreme leader Ayatollah Ali Khamenei called the missiles a “slap in the face” for the United States and indicated that more was to come.“An important incident has happened. The question of revenge is another issue,” Khamenei said in a speech broadcast live on state television.The office of Iraq’s premier said it had received “an official verbal message” from Iran informing it that a missile attack on US forces was imminent.“Iraq rejects any violation of its sovereignty and attacks on its territory,” the statement said, without specifically condemning the missile strikes.Iraqi President Barham Saleh denounced the attack and said it rejected attempts to turn Iraq into a “battlefield for warring sides”.Iraq’s military said it sustained no casualties in 22 missile strikes, most of them hitting Ain Al Asad.Fire, then restraint  The brazenness of the strike was highly unusual for Iran, which has tended to disguise attacks on US interests or troops through its use of proxy Shiite forces.“Ballistic missiles openly launched from Iran onto American targets is a new phase,” said Phillip Smyth, an expert on Shiite militias.But as the dust settled, it appeared that Iran’s strike — coming soon after the burial of Soleimani at a funeral in front of vast crowds — might have been more symbolic than anything.Iran’s Revolutionary Guards Corps warned any US counterattack would be met with an even “more crushing response” and threatened to strike Israel and America’s “allied governments”.However, Foreign Minister Mohammad Javad Zarif seemed to indicate that Iran was satisfied for now.“Iran took and concluded proportionate measures in self-defense,” Zarif said on Twitter.Condemnation  The strikes sparked worldwide condemnation, including from NATO, Germany, France and the UK.France said its forces deployed in Iraq sustained no casualties while the UK was concerned about “reports” of victims as British troops are stationed there. The Norwegian military said coalition troops were warned of the attack in advance through intelligence channels.The apparent deescalation did not remove pressure from approximately 5,200 US troops stationed across Iraq, where Iran has close links to powerful armed Shiite militias.And Iranian allies in the country said they still intend to take revenge for Friday’s US attack in which top Iraqi paramilitary commander Abu Mahdi al-Muhandis was killed alongside Soleimani.Muhandis was the deputy head of Iraq’s Hashed Al Shaabi, a military network incorporated into the Iraqi state whose factions are backed by Tehran.Paramilitary chief Qais Al Khazali — blacklisted as a “terrorist” by the US — said his side’s response to the United States “will be no less than the size of the Iranian response”.The Iraqi parliament has called for expulsion of US troops in the wake of the operation last week and there was embarrassing confusion at the Pentagon over the US response. Overflights suspended  Separately, a Ukraine International Airlines Boeing 737 crashed just outside Tehran after taking off bound for Kiev, killing all 176 people on board.There was no immediate suggestion of any link with the Iranian strikes but carriers including Air France, Royal Dutch Airlines and Lufthansa announced they were suspending flying though Iranian and Iraqi airspace as a precaution.The US aviation regulator banned civil flights over Iraq, Iran and the Gulf, citing the potential for “misidentification” of aircraft. \n",
      "--------------\n",
      "Ukraine passenger jet crashes in Iran killing all 176 on board\n",
      "https://jordantimes.com/news/region/ukraine-passenger-jet-crashes-iran-killing-all-176-board\n",
      "Jan 08, 2020\n",
      "\n",
      "TEHRAN — A Ukrainian airliner crashed shortly after take-off from Tehran Wednesday killing all 176 people on board, mainly Iranians and Canadians.Search-and-rescue teams were combing through the smoking wreckage of the Boeing 737 flight from Tehran to Kiev but officials said there was no hope of finding anyone alive.The vast majority of the passengers on the Ukraine International Airlines flight were non-Ukrainians, including 82 Iranians and 63 Canadians, officials said.The crash occurred with tensions high in the Middle East and shortly after Tehran launched missiles at bases in Iraq housing US troops.However, there was no immediate indication of foul play and Ukrainian President Volodymyr Zelensky warned against \"speculating\" on the cause of the disaster.The US aviation authority said it had banned US-registered carriers from flying over Iraq, Iran and the Gulf, and airlines including Lufthansa and Air France suspended flights through Iraqi and Iranian airspace.Footage released by Iranian state media showed a field on fire and the smouldering wreck of the plane.Body bags were lined up on the ground and the passengers' personal items — including luggage, clothes, a Santa Claus doll and a boxing glove — were scattered in the debris.UIA, the ex-Soviet country's privately owned main carrier, said flight PS752 took off from Tehran airport at 6:10am and disappeared from radars minutes later.It slammed into farmland at Khalaj Abad, in Shahriar county, about 45 kilometres northwest of the airport, Iranian state media said. Children, students on board  Canada’s Prime Minister Justin Trudeau said that Ottawa would work to ensure a thorough investigation.“This morning, I join Canadians across the country who are shocked and saddened” by the crash, he said.“Our government will continue to work closely with its international partners to ensure that... [it] is thoroughly investigated, and that Canadians’ questions are answered.”Trudeau’s Foreign Minister Francois-Philippe Champagne had earlier said Ottawa was in touch with Kiev over the crash.As well as the Iranians and Canadians, the passengers included 10 Swedes, four Afghans, three Germans and three Britons, Ukraine’s foreign minister said. Eleven Ukrainians including the nine crew were among the victims.Canada is home to a large Iranian expatriate community and UIA offers discount flights between Tehran and Toronto, with a transit in Kiev.UIA released a list of the names and birth years of passengers. At least 25 were under the age of 18.Two passengers registered on the flight did not board before take-off, Oleksiy Danilov, the secretary of Ukraine’s national security council, told reporters.The airline said the Boeing 737 had been built in 2016 and checked only two days before the accident. It was Kiev-based UIA’s first fatal crash.“The plane was in working order,” UIA company President Yevgeniy Dykhne told a briefing in Kiev where he choked back tears. “It was one of our best planes with a wonderful crew.”The airline is in part owned by Igor Kolomoisky, a controversial Ukrainian businessman with ties to Zelensky.The president, who cut short a vacation in Oman to return to Kiev, ordered an investigation into the crash and a sweeping check of “all civilian aircraft” in the country.“I ask everyone to keep from speculating and putting forth unconfirmed theories about the crash,” Zelensky wrote on Facebook.Iranian state media reported that the plane caught fire after crashing, but a video aired by the state broadcaster appeared to show the plane already on fire as it fell from the night sky. ‘Something catastrophic’  Iran on Wednesday fired more than a dozen ballistic missiles at Iraqi bases housing the US military, in the first action of its promised revenge for the US killing of a top Iranian general.“There is a lot of speculation at the moment it has been shot down I think that is not going to be the case at all,” said Stephen Wright, a professor of aircraft systems at Tampere University in Finland.“Planes fly the same routes day in, day out,” he said. “You don’t tend to put... missiles next to international airways for obvious reasons.”He added: “It could be a bomb or it could be some sort of catastrophic breakup of the aircraft.”The aircraft was not one of the MAX models fitted with anti-stall systems that have been linked with two other recent crashes of Boeing 737s.Boeing, which has been roiled by a nine-month crisis after the 737 MAX model was grounded, tweeted on Wednesday: “We are in contact with our airline customer and stand by them in this difficult time. We are ready to assist in any way needed.”UIA Vice President Igor Sosnovskiy told reporters in Kiev that the airline doubted its crew was at fault.“[The chances] of a crew error are minimal, we simply are not considering them,” he said. Black boxes recovered  A statement posted on the Ukrainian embassy website in Iran saying the crash was caused by an engine malfunction and ruling out an act of terror was later redacted, saying all information would be provided by an official commission.A Ukrainian source told AFP the statement had been changed because the embassy had used unverified reports.Prime Minister Oleksiy Goncharuk said Kiev was negotiating with Iranian authorities to allow Ukrainian investigators to travel to the crash site.Iran’s civil aviation authority said search-and-rescue teams had found the airliner’s two black boxes but that it would not hand them over to Boeing or US authorities.Meanwhile, the United States on Wednesday urged “complete cooperation” with a probe into a Ukrainian flight’s crash in Iran, which has rejected giving the Boeing plane’s black boxes to arch-rival Washington.“The United States calls for complete cooperation with any investigation into the cause of the crash,” Secretary of State Mike Pompeo said in a statement, without naming Iran directly.Pompeo offered condolences to the loved ones of the 176 people who were all killed on board, most of whom were Iranian or Canadian.“The United States will continue to follow this incident closely and stands prepared to offer Ukraine all possible assistance,” he said. \n",
      "--------------\n",
      "Turkey, Russia unite to urge Libya ceasefire\n",
      "https://jordantimes.com/news/region/turkey-russia-unite-urge-libya-ceasefire\n",
      "Jan 08, 2020\n"
     ]
    },
    {
     "name": "stdout",
     "output_type": "stream",
     "text": [
      "\n",
      "ISTANBUL/BRUSSELS — Turkish President Recep Tayyip Erdogan and Russian counterpart Vladimir Putin called on Wednesday for a ceasefire in Libya after talks in Istanbul, where they also inaugurated a \"historic\" gas pipeline.The leaders used a joint statement to call for a truce from midnight on Sunday \"supported by the necessary measures to be taken for stabilising the situation on the ground\" in Libya, where they are seen as supporting opposing sides.Last week, Turkey sent its first troops to help defend the UN-backed Tripoli government and Erdogan says there are 2,500 Russian mercenaries supporting renegade strongman Khalifa Haftar  a claim denied by Moscow.EU leaders met the head of Libya's UN-recognised government on Wednesday, with Germany warning the country could deteriorate into a \"second Syria\".Fayez Al Sarraj, whose beleaguered Government of National Accord is facing an offensive by rival forces who control the country's east, met EU diplomatic chief Josep Borrell, who cautioned that Libya was facing a \"watershed point\".He also met EU Council President Charles Michel and German Foreign Minister Heiko Maas, who told reporters that \"we want to prevent Libya from becoming the scene of a proxy war or Libya becoming a second Syria\".Borrell's and Maas' warnings came after military strongman Khalifa Haftar's forces  who have support from the UAE, Egypt and Russia  seized control of the coastal city of Sirte as part of his drive to take Tripoli and oust the GNA.The EU pledged to \"step up efforts towards a peaceful and political solution\" in a statement released afterwards, hoping the so-called Berlin process  UN-sponsored talks planned for the German capital  can offer a way out.Maas, who a day earlier took part in emergency talks on Libya with his French, British and Italian counterparts, said Sarraj had given his full support to the Berlin process and pledged to “push ahead with what is to be agreed there both a ceasefire and an arms embargo with the neighbouring states, but also above all the political process under the aegis of the United Nations”.No date has been fixed for the Berlin conference, but Maas suggested it could happen in the coming weeks.Borrell, who on Tuesday condemned Turkey for “interference” in the Libya conflict, earlier in the day warned that the situation in Libya was becoming increasingly perilous.Michel is due in Turkey this weekend for talks with President Recep Tayyip Erdogan, while Borrell plans to meet other Libyan leaders including Haftar in search of a breakthrough.Ankara says it has sent 35 Turkish troops who are carrying out training and coordination tasks to support the GNA, insisting they will not take part in any fighting.Libya has been plunged into chaos since a 2011 NATO-backed uprising that killed longstanding Muammar Qadhafi, and is now divided between the GNA and Haftar’s rival authorities based in the country’s east.   \n",
      "--------------\n",
      "Al Shabaab warns of more attacks against Kenya, US interests\n",
      "https://jordantimes.com/news/region/al-shabaab-warns-more-attacks-against-kenya-us-interests\n",
      "Jan 08, 2020\n",
      "\n",
      "NAIROBI — Somali Islamist group Al Shabaab on Wednesday warned Kenya \"will never be safe\", threatening tourists and calling for more attacks on US interests after they stormed an American base at the weekend.The Al Qaeda linked group said its attack on Camp Simba, in which three Americans were killed and several aircraft destroyed, should serve as a \"warning\" and Kenya should withdraw its forces from Somalia while they still \"have the chance\".Kenya sent troops into Somalia in 2011 as part of an African Union peacekeeping mission fighting against Al Shabaab, and has seen several brutal retaliation attacks both on its troops in Somalia and civilians in Kenya.\"Withdraw all your forces from our Muslim lands while you still have the chance. Otherwise brace yourselves for the worst and prepare for perilous times ahead, because Kenya will never be safe and Kenyans will never sleep soundly at night,\" the statement said.\"Tourists and travellers visiting the country are hereby warned that there will no longer be any safe sightseeing or safari trips in Kenya.\"The statement comes almost a year after the January 15 siege of the upscale Dusit hotel complex in Nairobi left 21 dead. Previous attacks have killed 67 at the Westgate shopping centre in 2013 and 148 at Garissa University in 2015.The ability of the group to strike a military base with a US presence stunned the country, and police have been on high alert after an increase of cross-border raids.The Camp Simba attack came a week after a car bomb left 81 dead in Mogadishu, and on Wednesday another vehicle packed with explosives left four dead.The statement also urged extremists to “make US interests in Kenya their primary target”.In a statement issued Sunday, Al Shabaab referred to an increase in US military air strikes under President Donald Trump, accusing the US of “strafing villages from above and indiscriminately bombarding innocent women and children”.AFRICOM said in April it had killed more than 800 people in 110 strikes in Somalia since April 2017.Observers say the Islamist group has shown remarkable resilience after more than a decade of efforts to combat it, retaining the capacity to inflict major damage despite losing control of several urban centres. \n",
      "--------------\n",
      "Soleimani successor: Continuity figure in uncertain times\n",
      "https://jordantimes.com/news/region/soleimani-successor-continuity-figure-uncertain-times\n",
      "Jan 08, 2020\n"
     ]
    },
    {
     "ename": "KeyboardInterrupt",
     "evalue": "",
     "output_type": "error",
     "traceback": [
      "\u001b[1;31m---------------------------------------------------------------------------\u001b[0m",
      "\u001b[1;31mTypeError\u001b[0m                                 Traceback (most recent call last)",
      "\u001b[1;32m~\\Anaconda3\\lib\\site-packages\\urllib3\\connectionpool.py\u001b[0m in \u001b[0;36m_make_request\u001b[1;34m(self, conn, method, url, timeout, chunked, **httplib_request_kw)\u001b[0m\n\u001b[0;32m    376\u001b[0m             \u001b[1;32mtry\u001b[0m\u001b[1;33m:\u001b[0m  \u001b[1;31m# Python 2.7, use buffering of HTTP responses\u001b[0m\u001b[1;33m\u001b[0m\u001b[1;33m\u001b[0m\u001b[0m\n\u001b[1;32m--> 377\u001b[1;33m                 \u001b[0mhttplib_response\u001b[0m \u001b[1;33m=\u001b[0m \u001b[0mconn\u001b[0m\u001b[1;33m.\u001b[0m\u001b[0mgetresponse\u001b[0m\u001b[1;33m(\u001b[0m\u001b[0mbuffering\u001b[0m\u001b[1;33m=\u001b[0m\u001b[1;32mTrue\u001b[0m\u001b[1;33m)\u001b[0m\u001b[1;33m\u001b[0m\u001b[1;33m\u001b[0m\u001b[0m\n\u001b[0m\u001b[0;32m    378\u001b[0m             \u001b[1;32mexcept\u001b[0m \u001b[0mTypeError\u001b[0m\u001b[1;33m:\u001b[0m  \u001b[1;31m# Python 3\u001b[0m\u001b[1;33m\u001b[0m\u001b[1;33m\u001b[0m\u001b[0m\n",
      "\u001b[1;31mTypeError\u001b[0m: getresponse() got an unexpected keyword argument 'buffering'",
      "\nDuring handling of the above exception, another exception occurred:\n",
      "\u001b[1;31mKeyboardInterrupt\u001b[0m                         Traceback (most recent call last)",
      "\u001b[1;32m<ipython-input-33-baa8699c3227>\u001b[0m in \u001b[0;36m<module>\u001b[1;34m\u001b[0m\n\u001b[0;32m      8\u001b[0m     \u001b[0mprint\u001b[0m\u001b[1;33m(\u001b[0m\u001b[0mlink\u001b[0m\u001b[1;33m)\u001b[0m\u001b[1;33m\u001b[0m\u001b[1;33m\u001b[0m\u001b[0m\n\u001b[0;32m      9\u001b[0m     \u001b[0mprint\u001b[0m\u001b[1;33m(\u001b[0m\u001b[0mdate\u001b[0m\u001b[1;33m)\u001b[0m\u001b[1;33m\u001b[0m\u001b[1;33m\u001b[0m\u001b[0m\n\u001b[1;32m---> 10\u001b[1;33m     \u001b[0mitem_req\u001b[0m \u001b[1;33m=\u001b[0m \u001b[0mrequests\u001b[0m\u001b[1;33m.\u001b[0m\u001b[0mget\u001b[0m\u001b[1;33m(\u001b[0m\u001b[0mlink\u001b[0m\u001b[1;33m)\u001b[0m\u001b[1;33m.\u001b[0m\u001b[0mtext\u001b[0m\u001b[1;33m\u001b[0m\u001b[1;33m\u001b[0m\u001b[0m\n\u001b[0m\u001b[0;32m     11\u001b[0m     \u001b[0mitem_soup\u001b[0m \u001b[1;33m=\u001b[0m \u001b[0mbs\u001b[0m\u001b[1;33m(\u001b[0m\u001b[0mitem_req\u001b[0m\u001b[1;33m,\u001b[0m \u001b[1;34m\"html.parser\"\u001b[0m\u001b[1;33m)\u001b[0m\u001b[1;33m\u001b[0m\u001b[1;33m\u001b[0m\u001b[0m\n\u001b[0;32m     12\u001b[0m     \u001b[0mbody\u001b[0m \u001b[1;33m=\u001b[0m \u001b[0mitem_soup\u001b[0m\u001b[1;33m.\u001b[0m\u001b[0mfind\u001b[0m\u001b[1;33m(\u001b[0m\u001b[1;34m\"div\"\u001b[0m\u001b[1;33m,\u001b[0m\u001b[1;33m{\u001b[0m\u001b[1;34m\"class\"\u001b[0m\u001b[1;33m:\u001b[0m\u001b[1;34m\"news-body\"\u001b[0m\u001b[1;33m}\u001b[0m\u001b[1;33m)\u001b[0m\u001b[1;33m\u001b[0m\u001b[1;33m\u001b[0m\u001b[0m\n",
      "\u001b[1;32m~\\Anaconda3\\lib\\site-packages\\requests\\api.py\u001b[0m in \u001b[0;36mget\u001b[1;34m(url, params, **kwargs)\u001b[0m\n\u001b[0;32m     73\u001b[0m \u001b[1;33m\u001b[0m\u001b[0m\n\u001b[0;32m     74\u001b[0m     \u001b[0mkwargs\u001b[0m\u001b[1;33m.\u001b[0m\u001b[0msetdefault\u001b[0m\u001b[1;33m(\u001b[0m\u001b[1;34m'allow_redirects'\u001b[0m\u001b[1;33m,\u001b[0m \u001b[1;32mTrue\u001b[0m\u001b[1;33m)\u001b[0m\u001b[1;33m\u001b[0m\u001b[1;33m\u001b[0m\u001b[0m\n\u001b[1;32m---> 75\u001b[1;33m     \u001b[1;32mreturn\u001b[0m \u001b[0mrequest\u001b[0m\u001b[1;33m(\u001b[0m\u001b[1;34m'get'\u001b[0m\u001b[1;33m,\u001b[0m \u001b[0murl\u001b[0m\u001b[1;33m,\u001b[0m \u001b[0mparams\u001b[0m\u001b[1;33m=\u001b[0m\u001b[0mparams\u001b[0m\u001b[1;33m,\u001b[0m \u001b[1;33m**\u001b[0m\u001b[0mkwargs\u001b[0m\u001b[1;33m)\u001b[0m\u001b[1;33m\u001b[0m\u001b[1;33m\u001b[0m\u001b[0m\n\u001b[0m\u001b[0;32m     76\u001b[0m \u001b[1;33m\u001b[0m\u001b[0m\n\u001b[0;32m     77\u001b[0m \u001b[1;33m\u001b[0m\u001b[0m\n",
      "\u001b[1;32m~\\Anaconda3\\lib\\site-packages\\requests\\api.py\u001b[0m in \u001b[0;36mrequest\u001b[1;34m(method, url, **kwargs)\u001b[0m\n\u001b[0;32m     58\u001b[0m     \u001b[1;31m# cases, and look like a memory leak in others.\u001b[0m\u001b[1;33m\u001b[0m\u001b[1;33m\u001b[0m\u001b[1;33m\u001b[0m\u001b[0m\n\u001b[0;32m     59\u001b[0m     \u001b[1;32mwith\u001b[0m \u001b[0msessions\u001b[0m\u001b[1;33m.\u001b[0m\u001b[0mSession\u001b[0m\u001b[1;33m(\u001b[0m\u001b[1;33m)\u001b[0m \u001b[1;32mas\u001b[0m \u001b[0msession\u001b[0m\u001b[1;33m:\u001b[0m\u001b[1;33m\u001b[0m\u001b[1;33m\u001b[0m\u001b[0m\n\u001b[1;32m---> 60\u001b[1;33m         \u001b[1;32mreturn\u001b[0m \u001b[0msession\u001b[0m\u001b[1;33m.\u001b[0m\u001b[0mrequest\u001b[0m\u001b[1;33m(\u001b[0m\u001b[0mmethod\u001b[0m\u001b[1;33m=\u001b[0m\u001b[0mmethod\u001b[0m\u001b[1;33m,\u001b[0m \u001b[0murl\u001b[0m\u001b[1;33m=\u001b[0m\u001b[0murl\u001b[0m\u001b[1;33m,\u001b[0m \u001b[1;33m**\u001b[0m\u001b[0mkwargs\u001b[0m\u001b[1;33m)\u001b[0m\u001b[1;33m\u001b[0m\u001b[1;33m\u001b[0m\u001b[0m\n\u001b[0m\u001b[0;32m     61\u001b[0m \u001b[1;33m\u001b[0m\u001b[0m\n\u001b[0;32m     62\u001b[0m \u001b[1;33m\u001b[0m\u001b[0m\n",
      "\u001b[1;32m~\\Anaconda3\\lib\\site-packages\\requests\\sessions.py\u001b[0m in \u001b[0;36mrequest\u001b[1;34m(self, method, url, params, data, headers, cookies, files, auth, timeout, allow_redirects, proxies, hooks, stream, verify, cert, json)\u001b[0m\n\u001b[0;32m    531\u001b[0m         }\n\u001b[0;32m    532\u001b[0m         \u001b[0msend_kwargs\u001b[0m\u001b[1;33m.\u001b[0m\u001b[0mupdate\u001b[0m\u001b[1;33m(\u001b[0m\u001b[0msettings\u001b[0m\u001b[1;33m)\u001b[0m\u001b[1;33m\u001b[0m\u001b[1;33m\u001b[0m\u001b[0m\n\u001b[1;32m--> 533\u001b[1;33m         \u001b[0mresp\u001b[0m \u001b[1;33m=\u001b[0m \u001b[0mself\u001b[0m\u001b[1;33m.\u001b[0m\u001b[0msend\u001b[0m\u001b[1;33m(\u001b[0m\u001b[0mprep\u001b[0m\u001b[1;33m,\u001b[0m \u001b[1;33m**\u001b[0m\u001b[0msend_kwargs\u001b[0m\u001b[1;33m)\u001b[0m\u001b[1;33m\u001b[0m\u001b[1;33m\u001b[0m\u001b[0m\n\u001b[0m\u001b[0;32m    534\u001b[0m \u001b[1;33m\u001b[0m\u001b[0m\n\u001b[0;32m    535\u001b[0m         \u001b[1;32mreturn\u001b[0m \u001b[0mresp\u001b[0m\u001b[1;33m\u001b[0m\u001b[1;33m\u001b[0m\u001b[0m\n",
      "\u001b[1;32m~\\Anaconda3\\lib\\site-packages\\requests\\sessions.py\u001b[0m in \u001b[0;36msend\u001b[1;34m(self, request, **kwargs)\u001b[0m\n\u001b[0;32m    644\u001b[0m \u001b[1;33m\u001b[0m\u001b[0m\n\u001b[0;32m    645\u001b[0m         \u001b[1;31m# Send the request\u001b[0m\u001b[1;33m\u001b[0m\u001b[1;33m\u001b[0m\u001b[1;33m\u001b[0m\u001b[0m\n\u001b[1;32m--> 646\u001b[1;33m         \u001b[0mr\u001b[0m \u001b[1;33m=\u001b[0m \u001b[0madapter\u001b[0m\u001b[1;33m.\u001b[0m\u001b[0msend\u001b[0m\u001b[1;33m(\u001b[0m\u001b[0mrequest\u001b[0m\u001b[1;33m,\u001b[0m \u001b[1;33m**\u001b[0m\u001b[0mkwargs\u001b[0m\u001b[1;33m)\u001b[0m\u001b[1;33m\u001b[0m\u001b[1;33m\u001b[0m\u001b[0m\n\u001b[0m\u001b[0;32m    647\u001b[0m \u001b[1;33m\u001b[0m\u001b[0m\n\u001b[0;32m    648\u001b[0m         \u001b[1;31m# Total elapsed time of the request (approximately)\u001b[0m\u001b[1;33m\u001b[0m\u001b[1;33m\u001b[0m\u001b[1;33m\u001b[0m\u001b[0m\n",
      "\u001b[1;32m~\\Anaconda3\\lib\\site-packages\\requests\\adapters.py\u001b[0m in \u001b[0;36msend\u001b[1;34m(self, request, stream, timeout, verify, cert, proxies)\u001b[0m\n\u001b[0;32m    447\u001b[0m                     \u001b[0mdecode_content\u001b[0m\u001b[1;33m=\u001b[0m\u001b[1;32mFalse\u001b[0m\u001b[1;33m,\u001b[0m\u001b[1;33m\u001b[0m\u001b[1;33m\u001b[0m\u001b[0m\n\u001b[0;32m    448\u001b[0m                     \u001b[0mretries\u001b[0m\u001b[1;33m=\u001b[0m\u001b[0mself\u001b[0m\u001b[1;33m.\u001b[0m\u001b[0mmax_retries\u001b[0m\u001b[1;33m,\u001b[0m\u001b[1;33m\u001b[0m\u001b[1;33m\u001b[0m\u001b[0m\n\u001b[1;32m--> 449\u001b[1;33m                     \u001b[0mtimeout\u001b[0m\u001b[1;33m=\u001b[0m\u001b[0mtimeout\u001b[0m\u001b[1;33m\u001b[0m\u001b[1;33m\u001b[0m\u001b[0m\n\u001b[0m\u001b[0;32m    450\u001b[0m                 )\n\u001b[0;32m    451\u001b[0m \u001b[1;33m\u001b[0m\u001b[0m\n",
      "\u001b[1;32m~\\Anaconda3\\lib\\site-packages\\urllib3\\connectionpool.py\u001b[0m in \u001b[0;36murlopen\u001b[1;34m(self, method, url, body, headers, retries, redirect, assert_same_host, timeout, pool_timeout, release_conn, chunked, body_pos, **response_kw)\u001b[0m\n\u001b[0;32m    598\u001b[0m                                                   \u001b[0mtimeout\u001b[0m\u001b[1;33m=\u001b[0m\u001b[0mtimeout_obj\u001b[0m\u001b[1;33m,\u001b[0m\u001b[1;33m\u001b[0m\u001b[1;33m\u001b[0m\u001b[0m\n\u001b[0;32m    599\u001b[0m                                                   \u001b[0mbody\u001b[0m\u001b[1;33m=\u001b[0m\u001b[0mbody\u001b[0m\u001b[1;33m,\u001b[0m \u001b[0mheaders\u001b[0m\u001b[1;33m=\u001b[0m\u001b[0mheaders\u001b[0m\u001b[1;33m,\u001b[0m\u001b[1;33m\u001b[0m\u001b[1;33m\u001b[0m\u001b[0m\n\u001b[1;32m--> 600\u001b[1;33m                                                   chunked=chunked)\n\u001b[0m\u001b[0;32m    601\u001b[0m \u001b[1;33m\u001b[0m\u001b[0m\n\u001b[0;32m    602\u001b[0m             \u001b[1;31m# If we're going to release the connection in ``finally:``, then\u001b[0m\u001b[1;33m\u001b[0m\u001b[1;33m\u001b[0m\u001b[1;33m\u001b[0m\u001b[0m\n",
      "\u001b[1;32m~\\Anaconda3\\lib\\site-packages\\urllib3\\connectionpool.py\u001b[0m in \u001b[0;36m_make_request\u001b[1;34m(self, conn, method, url, timeout, chunked, **httplib_request_kw)\u001b[0m\n\u001b[0;32m    378\u001b[0m             \u001b[1;32mexcept\u001b[0m \u001b[0mTypeError\u001b[0m\u001b[1;33m:\u001b[0m  \u001b[1;31m# Python 3\u001b[0m\u001b[1;33m\u001b[0m\u001b[1;33m\u001b[0m\u001b[0m\n\u001b[0;32m    379\u001b[0m                 \u001b[1;32mtry\u001b[0m\u001b[1;33m:\u001b[0m\u001b[1;33m\u001b[0m\u001b[1;33m\u001b[0m\u001b[0m\n\u001b[1;32m--> 380\u001b[1;33m                     \u001b[0mhttplib_response\u001b[0m \u001b[1;33m=\u001b[0m \u001b[0mconn\u001b[0m\u001b[1;33m.\u001b[0m\u001b[0mgetresponse\u001b[0m\u001b[1;33m(\u001b[0m\u001b[1;33m)\u001b[0m\u001b[1;33m\u001b[0m\u001b[1;33m\u001b[0m\u001b[0m\n\u001b[0m\u001b[0;32m    381\u001b[0m                 \u001b[1;32mexcept\u001b[0m \u001b[0mException\u001b[0m \u001b[1;32mas\u001b[0m \u001b[0me\u001b[0m\u001b[1;33m:\u001b[0m\u001b[1;33m\u001b[0m\u001b[1;33m\u001b[0m\u001b[0m\n\u001b[0;32m    382\u001b[0m                     \u001b[1;31m# Remove the TypeError from the exception chain in Python 3;\u001b[0m\u001b[1;33m\u001b[0m\u001b[1;33m\u001b[0m\u001b[1;33m\u001b[0m\u001b[0m\n",
      "\u001b[1;32m~\\Anaconda3\\lib\\http\\client.py\u001b[0m in \u001b[0;36mgetresponse\u001b[1;34m(self)\u001b[0m\n\u001b[0;32m   1319\u001b[0m         \u001b[1;32mtry\u001b[0m\u001b[1;33m:\u001b[0m\u001b[1;33m\u001b[0m\u001b[1;33m\u001b[0m\u001b[0m\n\u001b[0;32m   1320\u001b[0m             \u001b[1;32mtry\u001b[0m\u001b[1;33m:\u001b[0m\u001b[1;33m\u001b[0m\u001b[1;33m\u001b[0m\u001b[0m\n\u001b[1;32m-> 1321\u001b[1;33m                 \u001b[0mresponse\u001b[0m\u001b[1;33m.\u001b[0m\u001b[0mbegin\u001b[0m\u001b[1;33m(\u001b[0m\u001b[1;33m)\u001b[0m\u001b[1;33m\u001b[0m\u001b[1;33m\u001b[0m\u001b[0m\n\u001b[0m\u001b[0;32m   1322\u001b[0m             \u001b[1;32mexcept\u001b[0m \u001b[0mConnectionError\u001b[0m\u001b[1;33m:\u001b[0m\u001b[1;33m\u001b[0m\u001b[1;33m\u001b[0m\u001b[0m\n\u001b[0;32m   1323\u001b[0m                 \u001b[0mself\u001b[0m\u001b[1;33m.\u001b[0m\u001b[0mclose\u001b[0m\u001b[1;33m(\u001b[0m\u001b[1;33m)\u001b[0m\u001b[1;33m\u001b[0m\u001b[1;33m\u001b[0m\u001b[0m\n",
      "\u001b[1;32m~\\Anaconda3\\lib\\http\\client.py\u001b[0m in \u001b[0;36mbegin\u001b[1;34m(self)\u001b[0m\n\u001b[0;32m    294\u001b[0m         \u001b[1;31m# read until we get a non-100 response\u001b[0m\u001b[1;33m\u001b[0m\u001b[1;33m\u001b[0m\u001b[1;33m\u001b[0m\u001b[0m\n\u001b[0;32m    295\u001b[0m         \u001b[1;32mwhile\u001b[0m \u001b[1;32mTrue\u001b[0m\u001b[1;33m:\u001b[0m\u001b[1;33m\u001b[0m\u001b[1;33m\u001b[0m\u001b[0m\n\u001b[1;32m--> 296\u001b[1;33m             \u001b[0mversion\u001b[0m\u001b[1;33m,\u001b[0m \u001b[0mstatus\u001b[0m\u001b[1;33m,\u001b[0m \u001b[0mreason\u001b[0m \u001b[1;33m=\u001b[0m \u001b[0mself\u001b[0m\u001b[1;33m.\u001b[0m\u001b[0m_read_status\u001b[0m\u001b[1;33m(\u001b[0m\u001b[1;33m)\u001b[0m\u001b[1;33m\u001b[0m\u001b[1;33m\u001b[0m\u001b[0m\n\u001b[0m\u001b[0;32m    297\u001b[0m             \u001b[1;32mif\u001b[0m \u001b[0mstatus\u001b[0m \u001b[1;33m!=\u001b[0m \u001b[0mCONTINUE\u001b[0m\u001b[1;33m:\u001b[0m\u001b[1;33m\u001b[0m\u001b[1;33m\u001b[0m\u001b[0m\n\u001b[0;32m    298\u001b[0m                 \u001b[1;32mbreak\u001b[0m\u001b[1;33m\u001b[0m\u001b[1;33m\u001b[0m\u001b[0m\n",
      "\u001b[1;32m~\\Anaconda3\\lib\\http\\client.py\u001b[0m in \u001b[0;36m_read_status\u001b[1;34m(self)\u001b[0m\n\u001b[0;32m    255\u001b[0m \u001b[1;33m\u001b[0m\u001b[0m\n\u001b[0;32m    256\u001b[0m     \u001b[1;32mdef\u001b[0m \u001b[0m_read_status\u001b[0m\u001b[1;33m(\u001b[0m\u001b[0mself\u001b[0m\u001b[1;33m)\u001b[0m\u001b[1;33m:\u001b[0m\u001b[1;33m\u001b[0m\u001b[1;33m\u001b[0m\u001b[0m\n\u001b[1;32m--> 257\u001b[1;33m         \u001b[0mline\u001b[0m \u001b[1;33m=\u001b[0m \u001b[0mstr\u001b[0m\u001b[1;33m(\u001b[0m\u001b[0mself\u001b[0m\u001b[1;33m.\u001b[0m\u001b[0mfp\u001b[0m\u001b[1;33m.\u001b[0m\u001b[0mreadline\u001b[0m\u001b[1;33m(\u001b[0m\u001b[0m_MAXLINE\u001b[0m \u001b[1;33m+\u001b[0m \u001b[1;36m1\u001b[0m\u001b[1;33m)\u001b[0m\u001b[1;33m,\u001b[0m \u001b[1;34m\"iso-8859-1\"\u001b[0m\u001b[1;33m)\u001b[0m\u001b[1;33m\u001b[0m\u001b[1;33m\u001b[0m\u001b[0m\n\u001b[0m\u001b[0;32m    258\u001b[0m         \u001b[1;32mif\u001b[0m \u001b[0mlen\u001b[0m\u001b[1;33m(\u001b[0m\u001b[0mline\u001b[0m\u001b[1;33m)\u001b[0m \u001b[1;33m>\u001b[0m \u001b[0m_MAXLINE\u001b[0m\u001b[1;33m:\u001b[0m\u001b[1;33m\u001b[0m\u001b[1;33m\u001b[0m\u001b[0m\n\u001b[0;32m    259\u001b[0m             \u001b[1;32mraise\u001b[0m \u001b[0mLineTooLong\u001b[0m\u001b[1;33m(\u001b[0m\u001b[1;34m\"status line\"\u001b[0m\u001b[1;33m)\u001b[0m\u001b[1;33m\u001b[0m\u001b[1;33m\u001b[0m\u001b[0m\n",
      "\u001b[1;32m~\\Anaconda3\\lib\\socket.py\u001b[0m in \u001b[0;36mreadinto\u001b[1;34m(self, b)\u001b[0m\n\u001b[0;32m    587\u001b[0m         \u001b[1;32mwhile\u001b[0m \u001b[1;32mTrue\u001b[0m\u001b[1;33m:\u001b[0m\u001b[1;33m\u001b[0m\u001b[1;33m\u001b[0m\u001b[0m\n\u001b[0;32m    588\u001b[0m             \u001b[1;32mtry\u001b[0m\u001b[1;33m:\u001b[0m\u001b[1;33m\u001b[0m\u001b[1;33m\u001b[0m\u001b[0m\n\u001b[1;32m--> 589\u001b[1;33m                 \u001b[1;32mreturn\u001b[0m \u001b[0mself\u001b[0m\u001b[1;33m.\u001b[0m\u001b[0m_sock\u001b[0m\u001b[1;33m.\u001b[0m\u001b[0mrecv_into\u001b[0m\u001b[1;33m(\u001b[0m\u001b[0mb\u001b[0m\u001b[1;33m)\u001b[0m\u001b[1;33m\u001b[0m\u001b[1;33m\u001b[0m\u001b[0m\n\u001b[0m\u001b[0;32m    590\u001b[0m             \u001b[1;32mexcept\u001b[0m \u001b[0mtimeout\u001b[0m\u001b[1;33m:\u001b[0m\u001b[1;33m\u001b[0m\u001b[1;33m\u001b[0m\u001b[0m\n\u001b[0;32m    591\u001b[0m                 \u001b[0mself\u001b[0m\u001b[1;33m.\u001b[0m\u001b[0m_timeout_occurred\u001b[0m \u001b[1;33m=\u001b[0m \u001b[1;32mTrue\u001b[0m\u001b[1;33m\u001b[0m\u001b[1;33m\u001b[0m\u001b[0m\n",
      "\u001b[1;32m~\\Anaconda3\\lib\\site-packages\\urllib3\\contrib\\pyopenssl.py\u001b[0m in \u001b[0;36mrecv_into\u001b[1;34m(self, *args, **kwargs)\u001b[0m\n\u001b[0;32m    292\u001b[0m     \u001b[1;32mdef\u001b[0m \u001b[0mrecv_into\u001b[0m\u001b[1;33m(\u001b[0m\u001b[0mself\u001b[0m\u001b[1;33m,\u001b[0m \u001b[1;33m*\u001b[0m\u001b[0margs\u001b[0m\u001b[1;33m,\u001b[0m \u001b[1;33m**\u001b[0m\u001b[0mkwargs\u001b[0m\u001b[1;33m)\u001b[0m\u001b[1;33m:\u001b[0m\u001b[1;33m\u001b[0m\u001b[1;33m\u001b[0m\u001b[0m\n\u001b[0;32m    293\u001b[0m         \u001b[1;32mtry\u001b[0m\u001b[1;33m:\u001b[0m\u001b[1;33m\u001b[0m\u001b[1;33m\u001b[0m\u001b[0m\n\u001b[1;32m--> 294\u001b[1;33m             \u001b[1;32mreturn\u001b[0m \u001b[0mself\u001b[0m\u001b[1;33m.\u001b[0m\u001b[0mconnection\u001b[0m\u001b[1;33m.\u001b[0m\u001b[0mrecv_into\u001b[0m\u001b[1;33m(\u001b[0m\u001b[1;33m*\u001b[0m\u001b[0margs\u001b[0m\u001b[1;33m,\u001b[0m \u001b[1;33m**\u001b[0m\u001b[0mkwargs\u001b[0m\u001b[1;33m)\u001b[0m\u001b[1;33m\u001b[0m\u001b[1;33m\u001b[0m\u001b[0m\n\u001b[0m\u001b[0;32m    295\u001b[0m         \u001b[1;32mexcept\u001b[0m \u001b[0mOpenSSL\u001b[0m\u001b[1;33m.\u001b[0m\u001b[0mSSL\u001b[0m\u001b[1;33m.\u001b[0m\u001b[0mSysCallError\u001b[0m \u001b[1;32mas\u001b[0m \u001b[0me\u001b[0m\u001b[1;33m:\u001b[0m\u001b[1;33m\u001b[0m\u001b[1;33m\u001b[0m\u001b[0m\n\u001b[0;32m    296\u001b[0m             \u001b[1;32mif\u001b[0m \u001b[0mself\u001b[0m\u001b[1;33m.\u001b[0m\u001b[0msuppress_ragged_eofs\u001b[0m \u001b[1;32mand\u001b[0m \u001b[0me\u001b[0m\u001b[1;33m.\u001b[0m\u001b[0margs\u001b[0m \u001b[1;33m==\u001b[0m \u001b[1;33m(\u001b[0m\u001b[1;33m-\u001b[0m\u001b[1;36m1\u001b[0m\u001b[1;33m,\u001b[0m \u001b[1;34m'Unexpected EOF'\u001b[0m\u001b[1;33m)\u001b[0m\u001b[1;33m:\u001b[0m\u001b[1;33m\u001b[0m\u001b[1;33m\u001b[0m\u001b[0m\n",
      "\u001b[1;32m~\\Anaconda3\\lib\\site-packages\\OpenSSL\\SSL.py\u001b[0m in \u001b[0;36mrecv_into\u001b[1;34m(self, buffer, nbytes, flags)\u001b[0m\n\u001b[0;32m   1811\u001b[0m             \u001b[0mresult\u001b[0m \u001b[1;33m=\u001b[0m \u001b[0m_lib\u001b[0m\u001b[1;33m.\u001b[0m\u001b[0mSSL_peek\u001b[0m\u001b[1;33m(\u001b[0m\u001b[0mself\u001b[0m\u001b[1;33m.\u001b[0m\u001b[0m_ssl\u001b[0m\u001b[1;33m,\u001b[0m \u001b[0mbuf\u001b[0m\u001b[1;33m,\u001b[0m \u001b[0mnbytes\u001b[0m\u001b[1;33m)\u001b[0m\u001b[1;33m\u001b[0m\u001b[1;33m\u001b[0m\u001b[0m\n\u001b[0;32m   1812\u001b[0m         \u001b[1;32melse\u001b[0m\u001b[1;33m:\u001b[0m\u001b[1;33m\u001b[0m\u001b[1;33m\u001b[0m\u001b[0m\n\u001b[1;32m-> 1813\u001b[1;33m             \u001b[0mresult\u001b[0m \u001b[1;33m=\u001b[0m \u001b[0m_lib\u001b[0m\u001b[1;33m.\u001b[0m\u001b[0mSSL_read\u001b[0m\u001b[1;33m(\u001b[0m\u001b[0mself\u001b[0m\u001b[1;33m.\u001b[0m\u001b[0m_ssl\u001b[0m\u001b[1;33m,\u001b[0m \u001b[0mbuf\u001b[0m\u001b[1;33m,\u001b[0m \u001b[0mnbytes\u001b[0m\u001b[1;33m)\u001b[0m\u001b[1;33m\u001b[0m\u001b[1;33m\u001b[0m\u001b[0m\n\u001b[0m\u001b[0;32m   1814\u001b[0m         \u001b[0mself\u001b[0m\u001b[1;33m.\u001b[0m\u001b[0m_raise_ssl_error\u001b[0m\u001b[1;33m(\u001b[0m\u001b[0mself\u001b[0m\u001b[1;33m.\u001b[0m\u001b[0m_ssl\u001b[0m\u001b[1;33m,\u001b[0m \u001b[0mresult\u001b[0m\u001b[1;33m)\u001b[0m\u001b[1;33m\u001b[0m\u001b[1;33m\u001b[0m\u001b[0m\n\u001b[0;32m   1815\u001b[0m \u001b[1;33m\u001b[0m\u001b[0m\n",
      "\u001b[1;31mKeyboardInterrupt\u001b[0m: "
     ]
    }
   ],
   "source": [
    "for item in items:\n",
    "    header = item.find(\"div\",{\"class\":\"sec_header\"}).find(\"a\")\n",
    "    title = header.text.strip()\n",
    "    link = header.get(\"href\")\n",
    "    link = \"https://jordantimes.com\" + link\n",
    "    date = item.find(\"div\",{\"class\":\"sec_date\"}).text\n",
    "    print(title)\n",
    "    print(link)\n",
    "    print(date)\n",
    "    item_req = requests.get(link).text\n",
    "    item_soup = bs(item_req, \"html.parser\")\n",
    "    body = item_soup.find(\"div\",{\"class\":\"news-body\"})\n",
    "    print(body.text)\n",
    "    print('--------------')"
   ]
  },
  {
   "cell_type": "code",
   "execution_count": null,
   "metadata": {},
   "outputs": [],
   "source": []
  },
  {
   "cell_type": "code",
   "execution_count": 37,
   "metadata": {},
   "outputs": [],
   "source": [
    "d1 = {1:'A', 2:'B', 4:'E'}"
   ]
  },
  {
   "cell_type": "code",
   "execution_count": 38,
   "metadata": {},
   "outputs": [
    {
     "data": {
      "text/plain": [
       "'A'"
      ]
     },
     "execution_count": 38,
     "metadata": {},
     "output_type": "execute_result"
    }
   ],
   "source": [
    "d1[1]"
   ]
  },
  {
   "cell_type": "code",
   "execution_count": 39,
   "metadata": {},
   "outputs": [
    {
     "data": {
      "text/plain": [
       "'B'"
      ]
     },
     "execution_count": 39,
     "metadata": {},
     "output_type": "execute_result"
    }
   ],
   "source": [
    "d1[2]"
   ]
  },
  {
   "cell_type": "code",
   "execution_count": 41,
   "metadata": {},
   "outputs": [
    {
     "data": {
      "text/plain": [
       "'E'"
      ]
     },
     "execution_count": 41,
     "metadata": {},
     "output_type": "execute_result"
    }
   ],
   "source": [
    "d1[4]"
   ]
  },
  {
   "cell_type": "code",
   "execution_count": null,
   "metadata": {},
   "outputs": [],
   "source": []
  }
 ],
 "metadata": {
  "kernelspec": {
   "display_name": "Python 3",
   "language": "python",
   "name": "python3"
  },
  "language_info": {
   "codemirror_mode": {
    "name": "ipython",
    "version": 3
   },
   "file_extension": ".py",
   "mimetype": "text/x-python",
   "name": "python",
   "nbconvert_exporter": "python",
   "pygments_lexer": "ipython3",
   "version": "3.7.2"
  }
 },
 "nbformat": 4,
 "nbformat_minor": 2
}
